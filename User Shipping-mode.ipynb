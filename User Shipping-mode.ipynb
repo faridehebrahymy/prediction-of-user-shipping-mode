{
 "cells": [
  {
   "cell_type": "code",
   "execution_count": 1,
   "id": "c6c07235",
   "metadata": {},
   "outputs": [],
   "source": [
    "import pandas as pd \n",
    "import numpy as np\n",
    "from sqlalchemy import create_engine, text\n",
    "from sqlalchemy import URL\n",
    "from sqlalchemy import create_engine\n",
    "\n",
    "import numpy as np \n",
    "import pandas as pd \n",
    "import seaborn as sns \n",
    "import matplotlib.pyplot as plt \n",
    "%matplotlib inline \n",
    "\n",
    "import warnings\n",
    "warnings.filterwarnings(\"ignore\")\n",
    "\n",
    "import plotly.express as px\n",
    "import plotly.graph_objects as go\n",
    "from PIL import Image\n",
    "from IPython.display import Image\n",
    "from wordcloud import WordCloud, STOPWORDS\n",
    "\n",
    "from sklearn.model_selection import GridSearchCV\n",
    "from sklearn.metrics import mean_absolute_error\n",
    "from sklearn.metrics import mean_squared_error\n",
    "from sklearn.metrics import r2_score, mean_squared_error"
   ]
  },
  {
   "cell_type": "code",
   "execution_count": 2,
   "id": "12216853",
   "metadata": {},
   "outputs": [],
   "source": [
    "def create_table(username, password,db_name):\n",
    "    url_object = URL.create(\n",
    "        \"mysql+mysqlconnector\",\n",
    "        username=username,\n",
    "        password=password,\n",
    "        host=\"localhost\",\n",
    "        database=db_name\n",
    "    )\n",
    "    return create_engine(url_object)"
   ]
  },
  {
   "cell_type": "code",
   "execution_count": 3,
   "id": "dc3f3332",
   "metadata": {},
   "outputs": [],
   "source": [
    "engine = create_table('root', 'Farideh@2376', 'SuperStore')"
   ]
  },
  {
   "cell_type": "code",
   "execution_count": 4,
   "id": "ed72afa1",
   "metadata": {},
   "outputs": [],
   "source": [
    "query = \"\"\"\n",
    "SELECT s.date as `shiping date` ,o.Date as `Order Date`,Sales,  discount,Quantity, `Shipping Cost`, p.Category, p.`Sub-Category`,Segment, COALESCE(returned, 0) AS returned,Market, `Ship Mode`\n",
    "FROM order_detail\n",
    "JOIN product p ON order_detail.`Product ID` = p.`Product ID`\n",
    "JOIN shipping s ON order_detail.`Order ID` = s.`Order ID`\n",
    "JOIN `order` o ON o.`Order ID` = order_detail.`Order ID`\n",
    "JOIN customer c ON o.`Customer ID` = c.`Customer ID`\n",
    "LEFT JOIN returned r ON order_detail.`Order ID` = r.`Order ID`;\n",
    "\"\"\"\n",
    "\n",
    "\n",
    "df=pd.DataFrame(engine.connect().execute(text(query)))"
   ]
  },
  {
   "cell_type": "code",
   "execution_count": 5,
   "id": "5a13b4e2",
   "metadata": {
    "scrolled": false
   },
   "outputs": [
    {
     "data": {
      "text/html": [
       "<div>\n",
       "<style scoped>\n",
       "    .dataframe tbody tr th:only-of-type {\n",
       "        vertical-align: middle;\n",
       "    }\n",
       "\n",
       "    .dataframe tbody tr th {\n",
       "        vertical-align: top;\n",
       "    }\n",
       "\n",
       "    .dataframe thead th {\n",
       "        text-align: right;\n",
       "    }\n",
       "</style>\n",
       "<table border=\"1\" class=\"dataframe\">\n",
       "  <thead>\n",
       "    <tr style=\"text-align: right;\">\n",
       "      <th></th>\n",
       "      <th>shiping date</th>\n",
       "      <th>Order Date</th>\n",
       "      <th>Sales</th>\n",
       "      <th>discount</th>\n",
       "      <th>Quantity</th>\n",
       "      <th>Shipping Cost</th>\n",
       "      <th>Category</th>\n",
       "      <th>Sub-Category</th>\n",
       "      <th>Segment</th>\n",
       "      <th>returned</th>\n",
       "      <th>Market</th>\n",
       "      <th>Ship Mode</th>\n",
       "    </tr>\n",
       "  </thead>\n",
       "  <tbody>\n",
       "    <tr>\n",
       "      <th>0</th>\n",
       "      <td>2011-04-05</td>\n",
       "      <td>2011-03-31</td>\n",
       "      <td>673.568</td>\n",
       "      <td>0.200</td>\n",
       "      <td>2</td>\n",
       "      <td>54.960</td>\n",
       "      <td>Office Supplies</td>\n",
       "      <td>Binders</td>\n",
       "      <td>Consumer</td>\n",
       "      <td>0</td>\n",
       "      <td>US</td>\n",
       "      <td>Standard Class</td>\n",
       "    </tr>\n",
       "    <tr>\n",
       "      <th>1</th>\n",
       "      <td>2011-04-05</td>\n",
       "      <td>2011-03-31</td>\n",
       "      <td>52.980</td>\n",
       "      <td>0.000</td>\n",
       "      <td>2</td>\n",
       "      <td>3.170</td>\n",
       "      <td>Office Supplies</td>\n",
       "      <td>Appliances</td>\n",
       "      <td>Consumer</td>\n",
       "      <td>0</td>\n",
       "      <td>US</td>\n",
       "      <td>Standard Class</td>\n",
       "    </tr>\n",
       "    <tr>\n",
       "      <th>2</th>\n",
       "      <td>2011-09-20</td>\n",
       "      <td>2011-09-15</td>\n",
       "      <td>14.940</td>\n",
       "      <td>0.000</td>\n",
       "      <td>3</td>\n",
       "      <td>0.990</td>\n",
       "      <td>Office Supplies</td>\n",
       "      <td>Paper</td>\n",
       "      <td>Consumer</td>\n",
       "      <td>0</td>\n",
       "      <td>US</td>\n",
       "      <td>Standard Class</td>\n",
       "    </tr>\n",
       "    <tr>\n",
       "      <th>3</th>\n",
       "      <td>2011-09-20</td>\n",
       "      <td>2011-09-15</td>\n",
       "      <td>14.560</td>\n",
       "      <td>0.000</td>\n",
       "      <td>2</td>\n",
       "      <td>1.310</td>\n",
       "      <td>Furniture</td>\n",
       "      <td>Furnishings</td>\n",
       "      <td>Consumer</td>\n",
       "      <td>0</td>\n",
       "      <td>US</td>\n",
       "      <td>Standard Class</td>\n",
       "    </tr>\n",
       "    <tr>\n",
       "      <th>4</th>\n",
       "      <td>2012-10-07</td>\n",
       "      <td>2012-10-04</td>\n",
       "      <td>26.960</td>\n",
       "      <td>0.000</td>\n",
       "      <td>2</td>\n",
       "      <td>5.230</td>\n",
       "      <td>Office Supplies</td>\n",
       "      <td>Storage</td>\n",
       "      <td>Consumer</td>\n",
       "      <td>0</td>\n",
       "      <td>US</td>\n",
       "      <td>First Class</td>\n",
       "    </tr>\n",
       "    <tr>\n",
       "      <th>...</th>\n",
       "      <td>...</td>\n",
       "      <td>...</td>\n",
       "      <td>...</td>\n",
       "      <td>...</td>\n",
       "      <td>...</td>\n",
       "      <td>...</td>\n",
       "      <td>...</td>\n",
       "      <td>...</td>\n",
       "      <td>...</td>\n",
       "      <td>...</td>\n",
       "      <td>...</td>\n",
       "      <td>...</td>\n",
       "    </tr>\n",
       "    <tr>\n",
       "      <th>49665</th>\n",
       "      <td>2012-08-22</td>\n",
       "      <td>2012-08-17</td>\n",
       "      <td>1127.810</td>\n",
       "      <td>0.200</td>\n",
       "      <td>3</td>\n",
       "      <td>72.710</td>\n",
       "      <td>Furniture</td>\n",
       "      <td>Chairs</td>\n",
       "      <td>Consumer</td>\n",
       "      <td>0</td>\n",
       "      <td>EU</td>\n",
       "      <td>Standard Class</td>\n",
       "    </tr>\n",
       "    <tr>\n",
       "      <th>49666</th>\n",
       "      <td>2012-12-03</td>\n",
       "      <td>2012-11-26</td>\n",
       "      <td>87.984</td>\n",
       "      <td>0.400</td>\n",
       "      <td>2</td>\n",
       "      <td>9.110</td>\n",
       "      <td>Furniture</td>\n",
       "      <td>Furnishings</td>\n",
       "      <td>Consumer</td>\n",
       "      <td>1</td>\n",
       "      <td>LATAM</td>\n",
       "      <td>Standard Class</td>\n",
       "    </tr>\n",
       "    <tr>\n",
       "      <th>49667</th>\n",
       "      <td>2013-04-29</td>\n",
       "      <td>2013-04-24</td>\n",
       "      <td>872.320</td>\n",
       "      <td>0.000</td>\n",
       "      <td>2</td>\n",
       "      <td>68.222</td>\n",
       "      <td>Technology</td>\n",
       "      <td>Phones</td>\n",
       "      <td>Consumer</td>\n",
       "      <td>0</td>\n",
       "      <td>LATAM</td>\n",
       "      <td>Second Class</td>\n",
       "    </tr>\n",
       "    <tr>\n",
       "      <th>49668</th>\n",
       "      <td>2014-06-21</td>\n",
       "      <td>2014-06-18</td>\n",
       "      <td>590.117</td>\n",
       "      <td>0.002</td>\n",
       "      <td>3</td>\n",
       "      <td>106.680</td>\n",
       "      <td>Technology</td>\n",
       "      <td>Copiers</td>\n",
       "      <td>Consumer</td>\n",
       "      <td>0</td>\n",
       "      <td>LATAM</td>\n",
       "      <td>Second Class</td>\n",
       "    </tr>\n",
       "    <tr>\n",
       "      <th>49669</th>\n",
       "      <td>2013-05-10</td>\n",
       "      <td>2013-05-06</td>\n",
       "      <td>16.720</td>\n",
       "      <td>0.200</td>\n",
       "      <td>5</td>\n",
       "      <td>1.930</td>\n",
       "      <td>Furniture</td>\n",
       "      <td>Furnishings</td>\n",
       "      <td>Consumer</td>\n",
       "      <td>0</td>\n",
       "      <td>US</td>\n",
       "      <td>Standard Class</td>\n",
       "    </tr>\n",
       "  </tbody>\n",
       "</table>\n",
       "<p>49670 rows × 12 columns</p>\n",
       "</div>"
      ],
      "text/plain": [
       "      shiping date  Order Date     Sales  discount  Quantity  Shipping Cost  \\\n",
       "0       2011-04-05  2011-03-31   673.568     0.200         2         54.960   \n",
       "1       2011-04-05  2011-03-31    52.980     0.000         2          3.170   \n",
       "2       2011-09-20  2011-09-15    14.940     0.000         3          0.990   \n",
       "3       2011-09-20  2011-09-15    14.560     0.000         2          1.310   \n",
       "4       2012-10-07  2012-10-04    26.960     0.000         2          5.230   \n",
       "...            ...         ...       ...       ...       ...            ...   \n",
       "49665   2012-08-22  2012-08-17  1127.810     0.200         3         72.710   \n",
       "49666   2012-12-03  2012-11-26    87.984     0.400         2          9.110   \n",
       "49667   2013-04-29  2013-04-24   872.320     0.000         2         68.222   \n",
       "49668   2014-06-21  2014-06-18   590.117     0.002         3        106.680   \n",
       "49669   2013-05-10  2013-05-06    16.720     0.200         5          1.930   \n",
       "\n",
       "              Category Sub-Category   Segment  returned Market       Ship Mode  \n",
       "0      Office Supplies      Binders  Consumer         0     US  Standard Class  \n",
       "1      Office Supplies   Appliances  Consumer         0     US  Standard Class  \n",
       "2      Office Supplies        Paper  Consumer         0     US  Standard Class  \n",
       "3            Furniture  Furnishings  Consumer         0     US  Standard Class  \n",
       "4      Office Supplies      Storage  Consumer         0     US     First Class  \n",
       "...                ...          ...       ...       ...    ...             ...  \n",
       "49665        Furniture       Chairs  Consumer         0     EU  Standard Class  \n",
       "49666        Furniture  Furnishings  Consumer         1  LATAM  Standard Class  \n",
       "49667       Technology       Phones  Consumer         0  LATAM    Second Class  \n",
       "49668       Technology      Copiers  Consumer         0  LATAM    Second Class  \n",
       "49669        Furniture  Furnishings  Consumer         0     US  Standard Class  \n",
       "\n",
       "[49670 rows x 12 columns]"
      ]
     },
     "execution_count": 5,
     "metadata": {},
     "output_type": "execute_result"
    }
   ],
   "source": [
    "df"
   ]
  },
  {
   "cell_type": "code",
   "execution_count": 6,
   "id": "32fa7ef5",
   "metadata": {
    "scrolled": false
   },
   "outputs": [
    {
     "data": {
      "text/html": [
       "<div>\n",
       "<style scoped>\n",
       "    .dataframe tbody tr th:only-of-type {\n",
       "        vertical-align: middle;\n",
       "    }\n",
       "\n",
       "    .dataframe tbody tr th {\n",
       "        vertical-align: top;\n",
       "    }\n",
       "\n",
       "    .dataframe thead th {\n",
       "        text-align: right;\n",
       "    }\n",
       "</style>\n",
       "<table border=\"1\" class=\"dataframe\">\n",
       "  <thead>\n",
       "    <tr style=\"text-align: right;\">\n",
       "      <th></th>\n",
       "      <th>Sales</th>\n",
       "      <th>discount</th>\n",
       "      <th>Quantity</th>\n",
       "      <th>Shipping Cost</th>\n",
       "      <th>Category</th>\n",
       "      <th>Sub-Category</th>\n",
       "      <th>Segment</th>\n",
       "      <th>returned</th>\n",
       "      <th>Market</th>\n",
       "      <th>Ship Mode</th>\n",
       "      <th>Shipping Delay</th>\n",
       "    </tr>\n",
       "  </thead>\n",
       "  <tbody>\n",
       "    <tr>\n",
       "      <th>0</th>\n",
       "      <td>673.568</td>\n",
       "      <td>0.200</td>\n",
       "      <td>2</td>\n",
       "      <td>54.960</td>\n",
       "      <td>Office Supplies</td>\n",
       "      <td>Binders</td>\n",
       "      <td>Consumer</td>\n",
       "      <td>0</td>\n",
       "      <td>US</td>\n",
       "      <td>Standard Class</td>\n",
       "      <td>5</td>\n",
       "    </tr>\n",
       "    <tr>\n",
       "      <th>1</th>\n",
       "      <td>52.980</td>\n",
       "      <td>0.000</td>\n",
       "      <td>2</td>\n",
       "      <td>3.170</td>\n",
       "      <td>Office Supplies</td>\n",
       "      <td>Appliances</td>\n",
       "      <td>Consumer</td>\n",
       "      <td>0</td>\n",
       "      <td>US</td>\n",
       "      <td>Standard Class</td>\n",
       "      <td>5</td>\n",
       "    </tr>\n",
       "    <tr>\n",
       "      <th>2</th>\n",
       "      <td>14.940</td>\n",
       "      <td>0.000</td>\n",
       "      <td>3</td>\n",
       "      <td>0.990</td>\n",
       "      <td>Office Supplies</td>\n",
       "      <td>Paper</td>\n",
       "      <td>Consumer</td>\n",
       "      <td>0</td>\n",
       "      <td>US</td>\n",
       "      <td>Standard Class</td>\n",
       "      <td>5</td>\n",
       "    </tr>\n",
       "    <tr>\n",
       "      <th>3</th>\n",
       "      <td>14.560</td>\n",
       "      <td>0.000</td>\n",
       "      <td>2</td>\n",
       "      <td>1.310</td>\n",
       "      <td>Furniture</td>\n",
       "      <td>Furnishings</td>\n",
       "      <td>Consumer</td>\n",
       "      <td>0</td>\n",
       "      <td>US</td>\n",
       "      <td>Standard Class</td>\n",
       "      <td>5</td>\n",
       "    </tr>\n",
       "    <tr>\n",
       "      <th>4</th>\n",
       "      <td>26.960</td>\n",
       "      <td>0.000</td>\n",
       "      <td>2</td>\n",
       "      <td>5.230</td>\n",
       "      <td>Office Supplies</td>\n",
       "      <td>Storage</td>\n",
       "      <td>Consumer</td>\n",
       "      <td>0</td>\n",
       "      <td>US</td>\n",
       "      <td>First Class</td>\n",
       "      <td>3</td>\n",
       "    </tr>\n",
       "    <tr>\n",
       "      <th>...</th>\n",
       "      <td>...</td>\n",
       "      <td>...</td>\n",
       "      <td>...</td>\n",
       "      <td>...</td>\n",
       "      <td>...</td>\n",
       "      <td>...</td>\n",
       "      <td>...</td>\n",
       "      <td>...</td>\n",
       "      <td>...</td>\n",
       "      <td>...</td>\n",
       "      <td>...</td>\n",
       "    </tr>\n",
       "    <tr>\n",
       "      <th>49665</th>\n",
       "      <td>1127.810</td>\n",
       "      <td>0.200</td>\n",
       "      <td>3</td>\n",
       "      <td>72.710</td>\n",
       "      <td>Furniture</td>\n",
       "      <td>Chairs</td>\n",
       "      <td>Consumer</td>\n",
       "      <td>0</td>\n",
       "      <td>EU</td>\n",
       "      <td>Standard Class</td>\n",
       "      <td>5</td>\n",
       "    </tr>\n",
       "    <tr>\n",
       "      <th>49666</th>\n",
       "      <td>87.984</td>\n",
       "      <td>0.400</td>\n",
       "      <td>2</td>\n",
       "      <td>9.110</td>\n",
       "      <td>Furniture</td>\n",
       "      <td>Furnishings</td>\n",
       "      <td>Consumer</td>\n",
       "      <td>1</td>\n",
       "      <td>LATAM</td>\n",
       "      <td>Standard Class</td>\n",
       "      <td>7</td>\n",
       "    </tr>\n",
       "    <tr>\n",
       "      <th>49667</th>\n",
       "      <td>872.320</td>\n",
       "      <td>0.000</td>\n",
       "      <td>2</td>\n",
       "      <td>68.222</td>\n",
       "      <td>Technology</td>\n",
       "      <td>Phones</td>\n",
       "      <td>Consumer</td>\n",
       "      <td>0</td>\n",
       "      <td>LATAM</td>\n",
       "      <td>Second Class</td>\n",
       "      <td>5</td>\n",
       "    </tr>\n",
       "    <tr>\n",
       "      <th>49668</th>\n",
       "      <td>590.117</td>\n",
       "      <td>0.002</td>\n",
       "      <td>3</td>\n",
       "      <td>106.680</td>\n",
       "      <td>Technology</td>\n",
       "      <td>Copiers</td>\n",
       "      <td>Consumer</td>\n",
       "      <td>0</td>\n",
       "      <td>LATAM</td>\n",
       "      <td>Second Class</td>\n",
       "      <td>3</td>\n",
       "    </tr>\n",
       "    <tr>\n",
       "      <th>49669</th>\n",
       "      <td>16.720</td>\n",
       "      <td>0.200</td>\n",
       "      <td>5</td>\n",
       "      <td>1.930</td>\n",
       "      <td>Furniture</td>\n",
       "      <td>Furnishings</td>\n",
       "      <td>Consumer</td>\n",
       "      <td>0</td>\n",
       "      <td>US</td>\n",
       "      <td>Standard Class</td>\n",
       "      <td>4</td>\n",
       "    </tr>\n",
       "  </tbody>\n",
       "</table>\n",
       "<p>49670 rows × 11 columns</p>\n",
       "</div>"
      ],
      "text/plain": [
       "          Sales  discount  Quantity  Shipping Cost         Category  \\\n",
       "0       673.568     0.200         2         54.960  Office Supplies   \n",
       "1        52.980     0.000         2          3.170  Office Supplies   \n",
       "2        14.940     0.000         3          0.990  Office Supplies   \n",
       "3        14.560     0.000         2          1.310        Furniture   \n",
       "4        26.960     0.000         2          5.230  Office Supplies   \n",
       "...         ...       ...       ...            ...              ...   \n",
       "49665  1127.810     0.200         3         72.710        Furniture   \n",
       "49666    87.984     0.400         2          9.110        Furniture   \n",
       "49667   872.320     0.000         2         68.222       Technology   \n",
       "49668   590.117     0.002         3        106.680       Technology   \n",
       "49669    16.720     0.200         5          1.930        Furniture   \n",
       "\n",
       "      Sub-Category   Segment  returned Market       Ship Mode  Shipping Delay  \n",
       "0          Binders  Consumer         0     US  Standard Class               5  \n",
       "1       Appliances  Consumer         0     US  Standard Class               5  \n",
       "2            Paper  Consumer         0     US  Standard Class               5  \n",
       "3      Furnishings  Consumer         0     US  Standard Class               5  \n",
       "4          Storage  Consumer         0     US     First Class               3  \n",
       "...            ...       ...       ...    ...             ...             ...  \n",
       "49665       Chairs  Consumer         0     EU  Standard Class               5  \n",
       "49666  Furnishings  Consumer         1  LATAM  Standard Class               7  \n",
       "49667       Phones  Consumer         0  LATAM    Second Class               5  \n",
       "49668      Copiers  Consumer         0  LATAM    Second Class               3  \n",
       "49669  Furnishings  Consumer         0     US  Standard Class               4  \n",
       "\n",
       "[49670 rows x 11 columns]"
      ]
     },
     "execution_count": 6,
     "metadata": {},
     "output_type": "execute_result"
    }
   ],
   "source": [
    "df['Shipping Delay'] = (df['shiping date'] - df['Order Date']).dt.days\n",
    "df.drop('shiping date' ,inplace=True,axis=1)\n",
    "df.drop('Order Date' ,inplace=True,axis=1)\n",
    "\n",
    "df"
   ]
  },
  {
   "cell_type": "code",
   "execution_count": 7,
   "id": "79678104",
   "metadata": {},
   "outputs": [
    {
     "name": "stdout",
     "output_type": "stream",
     "text": [
      "<class 'pandas.core.frame.DataFrame'>\n",
      "RangeIndex: 49670 entries, 0 to 49669\n",
      "Data columns (total 11 columns):\n",
      " #   Column          Non-Null Count  Dtype  \n",
      "---  ------          --------------  -----  \n",
      " 0   Sales           49670 non-null  float64\n",
      " 1   discount        49670 non-null  float64\n",
      " 2   Quantity        49670 non-null  int64  \n",
      " 3   Shipping Cost   49670 non-null  float64\n",
      " 4   Category        49670 non-null  object \n",
      " 5   Sub-Category    49670 non-null  object \n",
      " 6   Segment         49670 non-null  object \n",
      " 7   returned        49670 non-null  int64  \n",
      " 8   Market          49670 non-null  object \n",
      " 9   Ship Mode       49670 non-null  object \n",
      " 10  Shipping Delay  49670 non-null  int64  \n",
      "dtypes: float64(3), int64(3), object(5)\n",
      "memory usage: 4.2+ MB\n"
     ]
    }
   ],
   "source": [
    "df.info()"
   ]
  },
  {
   "cell_type": "code",
   "execution_count": 8,
   "id": "07b2aa2b",
   "metadata": {
    "scrolled": true
   },
   "outputs": [
    {
     "data": {
      "text/html": [
       "<div>\n",
       "<style scoped>\n",
       "    .dataframe tbody tr th:only-of-type {\n",
       "        vertical-align: middle;\n",
       "    }\n",
       "\n",
       "    .dataframe tbody tr th {\n",
       "        vertical-align: top;\n",
       "    }\n",
       "\n",
       "    .dataframe thead th {\n",
       "        text-align: right;\n",
       "    }\n",
       "</style>\n",
       "<table border=\"1\" class=\"dataframe\">\n",
       "  <thead>\n",
       "    <tr style=\"text-align: right;\">\n",
       "      <th></th>\n",
       "      <th>Sales</th>\n",
       "      <th>discount</th>\n",
       "      <th>Quantity</th>\n",
       "      <th>Shipping Cost</th>\n",
       "      <th>returned</th>\n",
       "      <th>Shipping Delay</th>\n",
       "    </tr>\n",
       "  </thead>\n",
       "  <tbody>\n",
       "    <tr>\n",
       "      <th>count</th>\n",
       "      <td>49670.000000</td>\n",
       "      <td>49670.000000</td>\n",
       "      <td>49670.000000</td>\n",
       "      <td>49670.000000</td>\n",
       "      <td>49670.000000</td>\n",
       "      <td>49670.000000</td>\n",
       "    </tr>\n",
       "    <tr>\n",
       "      <th>mean</th>\n",
       "      <td>243.840355</td>\n",
       "      <td>0.143070</td>\n",
       "      <td>3.470787</td>\n",
       "      <td>26.041125</td>\n",
       "      <td>0.059996</td>\n",
       "      <td>3.972116</td>\n",
       "    </tr>\n",
       "    <tr>\n",
       "      <th>std</th>\n",
       "      <td>485.963091</td>\n",
       "      <td>0.212046</td>\n",
       "      <td>2.274854</td>\n",
       "      <td>56.870281</td>\n",
       "      <td>0.237482</td>\n",
       "      <td>1.727310</td>\n",
       "    </tr>\n",
       "    <tr>\n",
       "      <th>min</th>\n",
       "      <td>0.444000</td>\n",
       "      <td>0.000000</td>\n",
       "      <td>1.000000</td>\n",
       "      <td>0.002000</td>\n",
       "      <td>0.000000</td>\n",
       "      <td>0.000000</td>\n",
       "    </tr>\n",
       "    <tr>\n",
       "      <th>25%</th>\n",
       "      <td>30.384000</td>\n",
       "      <td>0.000000</td>\n",
       "      <td>2.000000</td>\n",
       "      <td>2.580000</td>\n",
       "      <td>0.000000</td>\n",
       "      <td>3.000000</td>\n",
       "    </tr>\n",
       "    <tr>\n",
       "      <th>50%</th>\n",
       "      <td>83.970000</td>\n",
       "      <td>0.000000</td>\n",
       "      <td>3.000000</td>\n",
       "      <td>7.660000</td>\n",
       "      <td>0.000000</td>\n",
       "      <td>4.000000</td>\n",
       "    </tr>\n",
       "    <tr>\n",
       "      <th>75%</th>\n",
       "      <td>247.830000</td>\n",
       "      <td>0.200000</td>\n",
       "      <td>5.000000</td>\n",
       "      <td>23.969000</td>\n",
       "      <td>0.000000</td>\n",
       "      <td>5.000000</td>\n",
       "    </tr>\n",
       "    <tr>\n",
       "      <th>max</th>\n",
       "      <td>22638.500000</td>\n",
       "      <td>0.850000</td>\n",
       "      <td>14.000000</td>\n",
       "      <td>933.570000</td>\n",
       "      <td>1.000000</td>\n",
       "      <td>7.000000</td>\n",
       "    </tr>\n",
       "  </tbody>\n",
       "</table>\n",
       "</div>"
      ],
      "text/plain": [
       "              Sales      discount      Quantity  Shipping Cost      returned  \\\n",
       "count  49670.000000  49670.000000  49670.000000   49670.000000  49670.000000   \n",
       "mean     243.840355      0.143070      3.470787      26.041125      0.059996   \n",
       "std      485.963091      0.212046      2.274854      56.870281      0.237482   \n",
       "min        0.444000      0.000000      1.000000       0.002000      0.000000   \n",
       "25%       30.384000      0.000000      2.000000       2.580000      0.000000   \n",
       "50%       83.970000      0.000000      3.000000       7.660000      0.000000   \n",
       "75%      247.830000      0.200000      5.000000      23.969000      0.000000   \n",
       "max    22638.500000      0.850000     14.000000     933.570000      1.000000   \n",
       "\n",
       "       Shipping Delay  \n",
       "count    49670.000000  \n",
       "mean         3.972116  \n",
       "std          1.727310  \n",
       "min          0.000000  \n",
       "25%          3.000000  \n",
       "50%          4.000000  \n",
       "75%          5.000000  \n",
       "max          7.000000  "
      ]
     },
     "execution_count": 8,
     "metadata": {},
     "output_type": "execute_result"
    }
   ],
   "source": [
    "df.describe()"
   ]
  },
  {
   "cell_type": "code",
   "execution_count": 9,
   "id": "f827e0fb",
   "metadata": {},
   "outputs": [],
   "source": [
    "X = df.drop([\"Ship Mode\"],axis=1)\n",
    "y = df['Ship Mode']\n"
   ]
  },
  {
   "cell_type": "code",
   "execution_count": 10,
   "id": "3023d2ba",
   "metadata": {},
   "outputs": [],
   "source": [
    "from sklearn.preprocessing import StandardScaler, MinMaxScaler\n",
    "from sklearn.model_selection import train_test_split\n",
    "from sklearn.metrics import accuracy_score\n",
    "\n",
    "# Splitting data into train, validation and test sets with ratio of 80:10:10\n",
    "X_train, X_temp, y_train, y_temp = train_test_split(X, y, test_size=0.2,random_state=42)\n",
    "X_val, X_test, y_val, y_test = train_test_split(X_temp, y_temp, test_size=0.5,random_state=42)\n"
   ]
  },
  {
   "cell_type": "code",
   "execution_count": 11,
   "id": "57d7a2c1",
   "metadata": {},
   "outputs": [
    {
     "data": {
      "text/plain": [
       "((39736, 10), (4967, 10), (4967, 10))"
      ]
     },
     "execution_count": 11,
     "metadata": {},
     "output_type": "execute_result"
    }
   ],
   "source": [
    "# check the shape of X_train and X_test and X_val\n",
    "\n",
    "X_train.shape, X_test.shape ,X_val.shape"
   ]
  },
  {
   "cell_type": "code",
   "execution_count": 12,
   "id": "6f990c1f",
   "metadata": {},
   "outputs": [],
   "source": [
    "import category_encoders as ce\n",
    "\n",
    "#X_Train encoders\n",
    "encoder = ce.OrdinalEncoder(cols=['Category','Sub-Category','Segment','Market'])\n",
    "X_train= encoder.fit_transform(X_train)\n",
    "\n",
    "\n",
    "#X_val encoders\n",
    "X_val= encoder.transform(X_val)\n",
    "\n",
    "\n",
    "#X_test encoders\n",
    "X_test= encoder.transform(X_test)\n"
   ]
  },
  {
   "cell_type": "code",
   "execution_count": 13,
   "id": "5ade385b",
   "metadata": {},
   "outputs": [],
   "source": [
    "import category_encoders as ce\n",
    "#y_Train encoders\n",
    "\n",
    "encoder = ce.OrdinalEncoder(cols=['Ship Mode'])\n",
    "y_train= encoder.fit_transform(y_train)\n",
    "\n",
    "\n",
    "#y_val encoders\n",
    "y_val= encoder.transform(y_val)\n",
    "\n",
    "\n",
    "#y_test encoders\n",
    "y_test= encoder.transform(y_test)"
   ]
  },
  {
   "cell_type": "code",
   "execution_count": 14,
   "id": "3ea63173",
   "metadata": {},
   "outputs": [],
   "source": [
    "from sklearn.preprocessing import MinMaxScaler\n",
    "from sklearn.preprocessing import StandardScaler\n",
    "from sklearn.preprocessing import QuantileTransformer\n",
    "from sklearn.preprocessing import MaxAbsScaler\n",
    "\n",
    "columns_to_scale = [ 'Sales', 'Shipping Cost','Quantity','Sub-Category']\n",
    "\n",
    "#X_train scale\n",
    "scaler = QuantileTransformer()\n",
    "X_train[columns_to_scale] = scaler.fit_transform(X_train[columns_to_scale])\n",
    "X_train.head(5)\n",
    "\n",
    "#X_val scale\n",
    "X_val[columns_to_scale] = scaler.transform(X_val[columns_to_scale])\n",
    "X_val.head(5)\n",
    "\n",
    "#X_test scale\n",
    "X_test[columns_to_scale] = scaler.transform(X_test[columns_to_scale])"
   ]
  },
  {
   "cell_type": "code",
   "execution_count": 15,
   "id": "70a5ae61",
   "metadata": {},
   "outputs": [
    {
     "data": {
      "image/png": "[encoded data removed]",
      "text/plain": [
       "<Figure size 864x1008 with 2 Axes>"
      ]
     },
     "metadata": {
      "needs_background": "light"
     },
     "output_type": "display_data"
    }
   ],
   "source": [
    "plt.figure(figsize=(12,14))\n",
    "sns.heatmap(X_train.corr(),annot=True,cmap='RdYlGn');"
   ]
  },
  {
   "cell_type": "markdown",
   "id": "438563f2",
   "metadata": {},
   "source": [
    "# KNeighborsClassifier"
   ]
  },
  {
   "cell_type": "code",
   "execution_count": 16,
   "id": "aa1eeb7c",
   "metadata": {},
   "outputs": [],
   "source": [
    "#import GridSearchCV\n",
    "from sklearn.model_selection import GridSearchCV\n",
    "#In case of classifier like knn the parameter to be tuned is n_neighbors\n",
    "param_grid = {'n_neighbors':np.arange(1,40)}"
   ]
  },
  {
   "cell_type": "code",
   "execution_count": 18,
   "id": "d288c1b1",
   "metadata": {},
   "outputs": [
    {
     "data": {
      "text/html": [
       "<style>#sk-container-id-1 {color: black;background-color: white;}#sk-container-id-1 pre{padding: 0;}#sk-container-id-1 div.sk-toggleable {background-color: white;}#sk-container-id-1 label.sk-toggleable__label {cursor: pointer;display: block;width: 100%;margin-bottom: 0;padding: 0.3em;box-sizing: border-box;text-align: center;}#sk-container-id-1 label.sk-toggleable__label-arrow:before {content: \"▸\";float: left;margin-right: 0.25em;color: #696969;}#sk-container-id-1 label.sk-toggleable__label-arrow:hover:before {color: black;}#sk-container-id-1 div.sk-estimator:hover label.sk-toggleable__label-arrow:before {color: black;}#sk-container-id-1 div.sk-toggleable__content {max-height: 0;max-width: 0;overflow: hidden;text-align: left;background-color: #f0f8ff;}#sk-container-id-1 div.sk-toggleable__content pre {margin: 0.2em;color: black;border-radius: 0.25em;background-color: #f0f8ff;}#sk-container-id-1 input.sk-toggleable__control:checked~div.sk-toggleable__content {max-height: 200px;max-width: 100%;overflow: auto;}#sk-container-id-1 input.sk-toggleable__control:checked~label.sk-toggleable__label-arrow:before {content: \"▾\";}#sk-container-id-1 div.sk-estimator input.sk-toggleable__control:checked~label.sk-toggleable__label {background-color: #d4ebff;}#sk-container-id-1 div.sk-label input.sk-toggleable__control:checked~label.sk-toggleable__label {background-color: #d4ebff;}#sk-container-id-1 input.sk-hidden--visually {border: 0;clip: rect(1px 1px 1px 1px);clip: rect(1px, 1px, 1px, 1px);height: 1px;margin: -1px;overflow: hidden;padding: 0;position: absolute;width: 1px;}#sk-container-id-1 div.sk-estimator {font-family: monospace;background-color: #f0f8ff;border: 1px dotted black;border-radius: 0.25em;box-sizing: border-box;margin-bottom: 0.5em;}#sk-container-id-1 div.sk-estimator:hover {background-color: #d4ebff;}#sk-container-id-1 div.sk-parallel-item::after {content: \"\";width: 100%;border-bottom: 1px solid gray;flex-grow: 1;}#sk-container-id-1 div.sk-label:hover label.sk-toggleable__label {background-color: #d4ebff;}#sk-container-id-1 div.sk-serial::before {content: \"\";position: absolute;border-left: 1px solid gray;box-sizing: border-box;top: 0;bottom: 0;left: 50%;z-index: 0;}#sk-container-id-1 div.sk-serial {display: flex;flex-direction: column;align-items: center;background-color: white;padding-right: 0.2em;padding-left: 0.2em;position: relative;}#sk-container-id-1 div.sk-item {position: relative;z-index: 1;}#sk-container-id-1 div.sk-parallel {display: flex;align-items: stretch;justify-content: center;background-color: white;position: relative;}#sk-container-id-1 div.sk-item::before, #sk-container-id-1 div.sk-parallel-item::before {content: \"\";position: absolute;border-left: 1px solid gray;box-sizing: border-box;top: 0;bottom: 0;left: 50%;z-index: -1;}#sk-container-id-1 div.sk-parallel-item {display: flex;flex-direction: column;z-index: 1;position: relative;background-color: white;}#sk-container-id-1 div.sk-parallel-item:first-child::after {align-self: flex-end;width: 50%;}#sk-container-id-1 div.sk-parallel-item:last-child::after {align-self: flex-start;width: 50%;}#sk-container-id-1 div.sk-parallel-item:only-child::after {width: 0;}#sk-container-id-1 div.sk-dashed-wrapped {border: 1px dashed gray;margin: 0 0.4em 0.5em 0.4em;box-sizing: border-box;padding-bottom: 0.4em;background-color: white;}#sk-container-id-1 div.sk-label label {font-family: monospace;font-weight: bold;display: inline-block;line-height: 1.2em;}#sk-container-id-1 div.sk-label-container {text-align: center;}#sk-container-id-1 div.sk-container {/* jupyter's `normalize.less` sets `[hidden] { display: none; }` but bootstrap.min.css set `[hidden] { display: none !important; }` so we also need the `!important` here to be able to override the default hidden behavior on the sphinx rendered scikit-learn.org. See: https://github.com/scikit-learn/scikit-learn/issues/21755 */display: inline-block !important;position: relative;}#sk-container-id-1 div.sk-text-repr-fallback {display: none;}</style><div id=\"sk-container-id-1\" class=\"sk-top-container\"><div class=\"sk-text-repr-fallback\"><pre>GridSearchCV(cv=5, estimator=KNeighborsClassifier(),\n",
       "             param_grid={&#x27;n_neighbors&#x27;: array([ 1,  2,  3,  4,  5,  6,  7,  8,  9, 10, 11, 12, 13, 14, 15, 16, 17,\n",
       "       18, 19, 20, 21, 22, 23, 24, 25, 26, 27, 28, 29, 30, 31, 32, 33, 34,\n",
       "       35, 36, 37, 38, 39])})</pre><b>In a Jupyter environment, please rerun this cell to show the HTML representation or trust the notebook. <br />On GitHub, the HTML representation is unable to render, please try loading this page with nbviewer.org.</b></div><div class=\"sk-container\" hidden><div class=\"sk-item sk-dashed-wrapped\"><div class=\"sk-label-container\"><div class=\"sk-label sk-toggleable\"><input class=\"sk-toggleable__control sk-hidden--visually\" id=\"sk-estimator-id-1\" type=\"checkbox\" ><label for=\"sk-estimator-id-1\" class=\"sk-toggleable__label sk-toggleable__label-arrow\">GridSearchCV</label><div class=\"sk-toggleable__content\"><pre>GridSearchCV(cv=5, estimator=KNeighborsClassifier(),\n",
       "             param_grid={&#x27;n_neighbors&#x27;: array([ 1,  2,  3,  4,  5,  6,  7,  8,  9, 10, 11, 12, 13, 14, 15, 16, 17,\n",
       "       18, 19, 20, 21, 22, 23, 24, 25, 26, 27, 28, 29, 30, 31, 32, 33, 34,\n",
       "       35, 36, 37, 38, 39])})</pre></div></div></div><div class=\"sk-parallel\"><div class=\"sk-parallel-item\"><div class=\"sk-item\"><div class=\"sk-label-container\"><div class=\"sk-label sk-toggleable\"><input class=\"sk-toggleable__control sk-hidden--visually\" id=\"sk-estimator-id-2\" type=\"checkbox\" ><label for=\"sk-estimator-id-2\" class=\"sk-toggleable__label sk-toggleable__label-arrow\">estimator: KNeighborsClassifier</label><div class=\"sk-toggleable__content\"><pre>KNeighborsClassifier()</pre></div></div></div><div class=\"sk-serial\"><div class=\"sk-item\"><div class=\"sk-estimator sk-toggleable\"><input class=\"sk-toggleable__control sk-hidden--visually\" id=\"sk-estimator-id-3\" type=\"checkbox\" ><label for=\"sk-estimator-id-3\" class=\"sk-toggleable__label sk-toggleable__label-arrow\">KNeighborsClassifier</label><div class=\"sk-toggleable__content\"><pre>KNeighborsClassifier()</pre></div></div></div></div></div></div></div></div></div></div>"
      ],
      "text/plain": [
       "GridSearchCV(cv=5, estimator=KNeighborsClassifier(),\n",
       "             param_grid={'n_neighbors': array([ 1,  2,  3,  4,  5,  6,  7,  8,  9, 10, 11, 12, 13, 14, 15, 16, 17,\n",
       "       18, 19, 20, 21, 22, 23, 24, 25, 26, 27, 28, 29, 30, 31, 32, 33, 34,\n",
       "       35, 36, 37, 38, 39])})"
      ]
     },
     "execution_count": 18,
     "metadata": {},
     "output_type": "execute_result"
    }
   ],
   "source": [
    "from sklearn.neighbors import KNeighborsClassifier\n",
    "\n",
    "knn = KNeighborsClassifier()\n",
    "knn_cv= GridSearchCV(knn,param_grid,cv=5)\n",
    "knn_cv.fit(X_train,y_train)"
   ]
  },
  {
   "cell_type": "code",
   "execution_count": 19,
   "id": "a953b4cd",
   "metadata": {},
   "outputs": [
    {
     "name": "stdout",
     "output_type": "stream",
     "text": [
      "Best parameters: {'n_neighbors': 36}\n",
      "Best Score: 0.8123866191019277\n"
     ]
    }
   ],
   "source": [
    "print(\"Best parameters:\", knn_cv.best_params_)\n",
    "print(\"Best Score:\", knn_cv.best_score_)"
   ]
  },
  {
   "cell_type": "code",
   "execution_count": 20,
   "id": "a4cabb20",
   "metadata": {},
   "outputs": [
    {
     "name": "stdout",
     "output_type": "stream",
     "text": [
      "\u001b[96m\n",
      "accuracy_knn   :  0.8071\n",
      "f1_score       :  0.736\n",
      "recall_knn     :  0.7214\n",
      "precision_knn  :  0.7618\n"
     ]
    }
   ],
   "source": [
    "from sklearn.metrics import recall_score, precision_score, f1_score , accuracy_score\n",
    "score_knn=knn_cv.best_score_\n",
    "model_knn = KNeighborsClassifier(n_neighbors=36 )\n",
    "model_knn.fit(X_train,y_train)\n",
    "y_pred_knn = model_knn.predict(X_val)\n",
    "\n",
    "f1_score_knn = f1_score(y_val, y_pred_knn, average='macro') \n",
    "recall_knn = recall_score(y_val, y_pred_knn, average='macro') \n",
    "accuracy_knn = accuracy_score(y_val, y_pred_knn)\n",
    "precision_knn = precision_score(y_val, y_pred_knn, average='macro') \n",
    "\n",
    "\n",
    "print(f'\\033[96m')\n",
    "print('accuracy_knn   : ', accuracy_knn.round(4))\n",
    "print('f1_score       : ', f1_score_knn.round(4))\n",
    "print('recall_knn     : ', recall_knn.round(4))\n",
    "print('precision_knn  : ', precision_knn.round(4))"
   ]
  },
  {
   "cell_type": "markdown",
   "id": "1ac44324",
   "metadata": {},
   "source": [
    "# DecisionTreeClassifier"
   ]
  },
  {
   "cell_type": "code",
   "execution_count": 22,
   "id": "633c1a3e",
   "metadata": {},
   "outputs": [
    {
     "name": "stdout",
     "output_type": "stream",
     "text": [
      "Best parameters: {'criterion': 'gini', 'max_depth': 4, 'min_samples_leaf': 1, 'min_samples_split': 2}\n",
      "Best score: 0.8162622511278641\n"
     ]
    }
   ],
   "source": [
    "from sklearn.tree import DecisionTreeClassifier\n",
    "from sklearn.model_selection import GridSearchCV\n",
    "import numpy as np\n",
    "\n",
    "# define the parameter grid\n",
    "param_grid = {\n",
    "    'criterion': ['gini', 'entropy'],\n",
    "    'max_depth': range(1, 20),\n",
    "    'min_samples_split': range(2, 10),\n",
    "    'min_samples_leaf': range(1, 5)\n",
    "}\n",
    "\n",
    "# create a Decision Tree classifier instance\n",
    "dtree = DecisionTreeClassifier()\n",
    "\n",
    "# create a GridSearchCV object and fit it to the data\n",
    "grid_search = GridSearchCV(dtree, param_grid, cv=5)\n",
    "grid_search.fit(X_train, y_train)\n",
    "\n",
    "print(\"Best parameters:\", grid_search.best_params_)\n",
    "print(\"Best score:\", grid_search.best_score_)"
   ]
  },
  {
   "cell_type": "code",
   "execution_count": 24,
   "id": "ac879c56",
   "metadata": {},
   "outputs": [
    {
     "data": {
      "text/html": [
       "<style>#sk-container-id-3 {color: black;background-color: white;}#sk-container-id-3 pre{padding: 0;}#sk-container-id-3 div.sk-toggleable {background-color: white;}#sk-container-id-3 label.sk-toggleable__label {cursor: pointer;display: block;width: 100%;margin-bottom: 0;padding: 0.3em;box-sizing: border-box;text-align: center;}#sk-container-id-3 label.sk-toggleable__label-arrow:before {content: \"▸\";float: left;margin-right: 0.25em;color: #696969;}#sk-container-id-3 label.sk-toggleable__label-arrow:hover:before {color: black;}#sk-container-id-3 div.sk-estimator:hover label.sk-toggleable__label-arrow:before {color: black;}#sk-container-id-3 div.sk-toggleable__content {max-height: 0;max-width: 0;overflow: hidden;text-align: left;background-color: #f0f8ff;}#sk-container-id-3 div.sk-toggleable__content pre {margin: 0.2em;color: black;border-radius: 0.25em;background-color: #f0f8ff;}#sk-container-id-3 input.sk-toggleable__control:checked~div.sk-toggleable__content {max-height: 200px;max-width: 100%;overflow: auto;}#sk-container-id-3 input.sk-toggleable__control:checked~label.sk-toggleable__label-arrow:before {content: \"▾\";}#sk-container-id-3 div.sk-estimator input.sk-toggleable__control:checked~label.sk-toggleable__label {background-color: #d4ebff;}#sk-container-id-3 div.sk-label input.sk-toggleable__control:checked~label.sk-toggleable__label {background-color: #d4ebff;}#sk-container-id-3 input.sk-hidden--visually {border: 0;clip: rect(1px 1px 1px 1px);clip: rect(1px, 1px, 1px, 1px);height: 1px;margin: -1px;overflow: hidden;padding: 0;position: absolute;width: 1px;}#sk-container-id-3 div.sk-estimator {font-family: monospace;background-color: #f0f8ff;border: 1px dotted black;border-radius: 0.25em;box-sizing: border-box;margin-bottom: 0.5em;}#sk-container-id-3 div.sk-estimator:hover {background-color: #d4ebff;}#sk-container-id-3 div.sk-parallel-item::after {content: \"\";width: 100%;border-bottom: 1px solid gray;flex-grow: 1;}#sk-container-id-3 div.sk-label:hover label.sk-toggleable__label {background-color: #d4ebff;}#sk-container-id-3 div.sk-serial::before {content: \"\";position: absolute;border-left: 1px solid gray;box-sizing: border-box;top: 0;bottom: 0;left: 50%;z-index: 0;}#sk-container-id-3 div.sk-serial {display: flex;flex-direction: column;align-items: center;background-color: white;padding-right: 0.2em;padding-left: 0.2em;position: relative;}#sk-container-id-3 div.sk-item {position: relative;z-index: 1;}#sk-container-id-3 div.sk-parallel {display: flex;align-items: stretch;justify-content: center;background-color: white;position: relative;}#sk-container-id-3 div.sk-item::before, #sk-container-id-3 div.sk-parallel-item::before {content: \"\";position: absolute;border-left: 1px solid gray;box-sizing: border-box;top: 0;bottom: 0;left: 50%;z-index: -1;}#sk-container-id-3 div.sk-parallel-item {display: flex;flex-direction: column;z-index: 1;position: relative;background-color: white;}#sk-container-id-3 div.sk-parallel-item:first-child::after {align-self: flex-end;width: 50%;}#sk-container-id-3 div.sk-parallel-item:last-child::after {align-self: flex-start;width: 50%;}#sk-container-id-3 div.sk-parallel-item:only-child::after {width: 0;}#sk-container-id-3 div.sk-dashed-wrapped {border: 1px dashed gray;margin: 0 0.4em 0.5em 0.4em;box-sizing: border-box;padding-bottom: 0.4em;background-color: white;}#sk-container-id-3 div.sk-label label {font-family: monospace;font-weight: bold;display: inline-block;line-height: 1.2em;}#sk-container-id-3 div.sk-label-container {text-align: center;}#sk-container-id-3 div.sk-container {/* jupyter's `normalize.less` sets `[hidden] { display: none; }` but bootstrap.min.css set `[hidden] { display: none !important; }` so we also need the `!important` here to be able to override the default hidden behavior on the sphinx rendered scikit-learn.org. See: https://github.com/scikit-learn/scikit-learn/issues/21755 */display: inline-block !important;position: relative;}#sk-container-id-3 div.sk-text-repr-fallback {display: none;}</style><div id=\"sk-container-id-3\" class=\"sk-top-container\"><div class=\"sk-text-repr-fallback\"><pre>DecisionTreeClassifier(max_depth=4)</pre><b>In a Jupyter environment, please rerun this cell to show the HTML representation or trust the notebook. <br />On GitHub, the HTML representation is unable to render, please try loading this page with nbviewer.org.</b></div><div class=\"sk-container\" hidden><div class=\"sk-item\"><div class=\"sk-estimator sk-toggleable\"><input class=\"sk-toggleable__control sk-hidden--visually\" id=\"sk-estimator-id-5\" type=\"checkbox\" checked><label for=\"sk-estimator-id-5\" class=\"sk-toggleable__label sk-toggleable__label-arrow\">DecisionTreeClassifier</label><div class=\"sk-toggleable__content\"><pre>DecisionTreeClassifier(max_depth=4)</pre></div></div></div></div></div>"
      ],
      "text/plain": [
       "DecisionTreeClassifier(max_depth=4)"
      ]
     },
     "execution_count": 24,
     "metadata": {},
     "output_type": "execute_result"
    }
   ],
   "source": [
    "decision_tree = DecisionTreeClassifier( criterion='gini', max_depth=4 ,min_samples_leaf=1, min_samples_split=2)\n",
    "decision_tree.fit(X_train, y_train)"
   ]
  },
  {
   "cell_type": "code",
   "execution_count": 26,
   "id": "8885ca9d",
   "metadata": {},
   "outputs": [
    {
     "name": "stdout",
     "output_type": "stream",
     "text": [
      "\u001b[92m\n",
      "accuracy_DecisionTree   :  0.8136\n",
      "f1_score_DecisionTree   :  0.7467\n",
      "recall_DecisionTree     :  0.7303\n",
      "precision_DecisionTree  :  0.7743\n"
     ]
    }
   ],
   "source": [
    "y_pred_DecisionTree = decision_tree.predict(X_val)\n",
    "\n",
    "\n",
    "f1_score_DecisionTree = f1_score(y_val, y_pred_DecisionTree, average='macro') \n",
    "recall_DecisionTree = recall_score(y_val, y_pred_DecisionTree, average='macro') \n",
    "accuracy_DecisionTree = accuracy_score(y_val, y_pred_DecisionTree)\n",
    "precision_DecisionTree = precision_score(y_val, y_pred_DecisionTree, average='macro') \n",
    "\n",
    "print(f'\\033[92m')\n",
    "print('accuracy_DecisionTree   : ', accuracy_DecisionTree.round(4))\n",
    "print('f1_score_DecisionTree   : ', f1_score_DecisionTree.round(4))\n",
    "print('recall_DecisionTree     : ', recall_DecisionTree.round(4))\n",
    "print('precision_DecisionTree  : ', precision_DecisionTree.round(4))"
   ]
  },
  {
   "cell_type": "markdown",
   "id": "eaf3ce9c",
   "metadata": {},
   "source": [
    "# RandomForestClassifier"
   ]
  },
  {
   "cell_type": "code",
   "execution_count": 28,
   "id": "b9a54b63",
   "metadata": {},
   "outputs": [
    {
     "name": "stdout",
     "output_type": "stream",
     "text": [
      "Best parameters: {'criterion': 'entropy', 'max_depth': 14, 'min_samples_leaf': 18, 'min_samples_split': 12, 'n_estimators': 200}\n",
      "Best score: 0.821396206967283\n"
     ]
    }
   ],
   "source": [
    "from sklearn.ensemble import RandomForestClassifier\n",
    "from sklearn.model_selection import GridSearchCV\n",
    "import numpy as np\n",
    "\n",
    "param_grid = {\n",
    "'criterion': ['gini', 'entropy'],\n",
    "'max_depth': [3,10,14],\n",
    "'min_samples_split': [3,8,12],\n",
    "'min_samples_leaf':[3,9,18],\n",
    "'n_estimators': [50, 100, 150, 200]\n",
    "}\n",
    "\n",
    "rfc = RandomForestClassifier()\n",
    "\n",
    "grid_search = GridSearchCV(rfc, param_grid, cv=5)\n",
    "grid_search.fit(X_train, y_train)\n",
    "score_RandomForest=grid_search.best_score_\n",
    "print(\"Best parameters:\", grid_search.best_params_)\n",
    "print(\"Best score:\", grid_search.best_score_)"
   ]
  },
  {
   "cell_type": "code",
   "execution_count": 29,
   "id": "129ce9fa",
   "metadata": {},
   "outputs": [
    {
     "data": {
      "text/html": [
       "<style>#sk-container-id-4 {color: black;background-color: white;}#sk-container-id-4 pre{padding: 0;}#sk-container-id-4 div.sk-toggleable {background-color: white;}#sk-container-id-4 label.sk-toggleable__label {cursor: pointer;display: block;width: 100%;margin-bottom: 0;padding: 0.3em;box-sizing: border-box;text-align: center;}#sk-container-id-4 label.sk-toggleable__label-arrow:before {content: \"▸\";float: left;margin-right: 0.25em;color: #696969;}#sk-container-id-4 label.sk-toggleable__label-arrow:hover:before {color: black;}#sk-container-id-4 div.sk-estimator:hover label.sk-toggleable__label-arrow:before {color: black;}#sk-container-id-4 div.sk-toggleable__content {max-height: 0;max-width: 0;overflow: hidden;text-align: left;background-color: #f0f8ff;}#sk-container-id-4 div.sk-toggleable__content pre {margin: 0.2em;color: black;border-radius: 0.25em;background-color: #f0f8ff;}#sk-container-id-4 input.sk-toggleable__control:checked~div.sk-toggleable__content {max-height: 200px;max-width: 100%;overflow: auto;}#sk-container-id-4 input.sk-toggleable__control:checked~label.sk-toggleable__label-arrow:before {content: \"▾\";}#sk-container-id-4 div.sk-estimator input.sk-toggleable__control:checked~label.sk-toggleable__label {background-color: #d4ebff;}#sk-container-id-4 div.sk-label input.sk-toggleable__control:checked~label.sk-toggleable__label {background-color: #d4ebff;}#sk-container-id-4 input.sk-hidden--visually {border: 0;clip: rect(1px 1px 1px 1px);clip: rect(1px, 1px, 1px, 1px);height: 1px;margin: -1px;overflow: hidden;padding: 0;position: absolute;width: 1px;}#sk-container-id-4 div.sk-estimator {font-family: monospace;background-color: #f0f8ff;border: 1px dotted black;border-radius: 0.25em;box-sizing: border-box;margin-bottom: 0.5em;}#sk-container-id-4 div.sk-estimator:hover {background-color: #d4ebff;}#sk-container-id-4 div.sk-parallel-item::after {content: \"\";width: 100%;border-bottom: 1px solid gray;flex-grow: 1;}#sk-container-id-4 div.sk-label:hover label.sk-toggleable__label {background-color: #d4ebff;}#sk-container-id-4 div.sk-serial::before {content: \"\";position: absolute;border-left: 1px solid gray;box-sizing: border-box;top: 0;bottom: 0;left: 50%;z-index: 0;}#sk-container-id-4 div.sk-serial {display: flex;flex-direction: column;align-items: center;background-color: white;padding-right: 0.2em;padding-left: 0.2em;position: relative;}#sk-container-id-4 div.sk-item {position: relative;z-index: 1;}#sk-container-id-4 div.sk-parallel {display: flex;align-items: stretch;justify-content: center;background-color: white;position: relative;}#sk-container-id-4 div.sk-item::before, #sk-container-id-4 div.sk-parallel-item::before {content: \"\";position: absolute;border-left: 1px solid gray;box-sizing: border-box;top: 0;bottom: 0;left: 50%;z-index: -1;}#sk-container-id-4 div.sk-parallel-item {display: flex;flex-direction: column;z-index: 1;position: relative;background-color: white;}#sk-container-id-4 div.sk-parallel-item:first-child::after {align-self: flex-end;width: 50%;}#sk-container-id-4 div.sk-parallel-item:last-child::after {align-self: flex-start;width: 50%;}#sk-container-id-4 div.sk-parallel-item:only-child::after {width: 0;}#sk-container-id-4 div.sk-dashed-wrapped {border: 1px dashed gray;margin: 0 0.4em 0.5em 0.4em;box-sizing: border-box;padding-bottom: 0.4em;background-color: white;}#sk-container-id-4 div.sk-label label {font-family: monospace;font-weight: bold;display: inline-block;line-height: 1.2em;}#sk-container-id-4 div.sk-label-container {text-align: center;}#sk-container-id-4 div.sk-container {/* jupyter's `normalize.less` sets `[hidden] { display: none; }` but bootstrap.min.css set `[hidden] { display: none !important; }` so we also need the `!important` here to be able to override the default hidden behavior on the sphinx rendered scikit-learn.org. See: https://github.com/scikit-learn/scikit-learn/issues/21755 */display: inline-block !important;position: relative;}#sk-container-id-4 div.sk-text-repr-fallback {display: none;}</style><div id=\"sk-container-id-4\" class=\"sk-top-container\"><div class=\"sk-text-repr-fallback\"><pre>RandomForestClassifier(criterion=&#x27;entropy&#x27;, max_depth=14, min_samples_leaf=18,\n",
       "                       min_samples_split=12, n_estimators=20)</pre><b>In a Jupyter environment, please rerun this cell to show the HTML representation or trust the notebook. <br />On GitHub, the HTML representation is unable to render, please try loading this page with nbviewer.org.</b></div><div class=\"sk-container\" hidden><div class=\"sk-item\"><div class=\"sk-estimator sk-toggleable\"><input class=\"sk-toggleable__control sk-hidden--visually\" id=\"sk-estimator-id-6\" type=\"checkbox\" checked><label for=\"sk-estimator-id-6\" class=\"sk-toggleable__label sk-toggleable__label-arrow\">RandomForestClassifier</label><div class=\"sk-toggleable__content\"><pre>RandomForestClassifier(criterion=&#x27;entropy&#x27;, max_depth=14, min_samples_leaf=18,\n",
       "                       min_samples_split=12, n_estimators=20)</pre></div></div></div></div></div>"
      ],
      "text/plain": [
       "RandomForestClassifier(criterion='entropy', max_depth=14, min_samples_leaf=18,\n",
       "                       min_samples_split=12, n_estimators=20)"
      ]
     },
     "execution_count": 29,
     "metadata": {},
     "output_type": "execute_result"
    }
   ],
   "source": [
    "RandomForest=RandomForestClassifier(criterion='entropy',max_depth=14,min_samples_leaf=18, min_samples_split=12,n_estimators=20)\n",
    "RandomForest.fit(X_train, y_train)"
   ]
  },
  {
   "cell_type": "code",
   "execution_count": 30,
   "id": "f54a8087",
   "metadata": {},
   "outputs": [
    {
     "name": "stdout",
     "output_type": "stream",
     "text": [
      "\u001b[92m\n",
      "accuracy_RandomForest  :  0.819\n",
      "f1_score_RandomForest  :  0.7539\n",
      "recall_RandomForest    :  0.7423\n",
      "precision_RandomForest :  0.7822\n"
     ]
    }
   ],
   "source": [
    "score_RandomForest=grid_search.best_score_\n",
    "\n",
    "y_pred_RandomForest = RandomForest.predict(X_val)\n",
    "\n",
    "\n",
    "f1_score_RandomForest = f1_score(y_val, y_pred_RandomForest, average='macro') \n",
    "recall_RandomForest = recall_score(y_val, y_pred_RandomForest, average='macro') \n",
    "accuracy_RandomForest = accuracy_score(y_val, y_pred_RandomForest)\n",
    "precision_RandomForest = precision_score(y_val, y_pred_RandomForest, average='macro') \n",
    "\n",
    "print(f'\\033[92m')\n",
    "print('accuracy_RandomForest  : ', accuracy_RandomForest.round(4))\n",
    "print('f1_score_RandomForest  : ', f1_score_RandomForest.round(4))\n",
    "print('recall_RandomForest    : ', recall_RandomForest.round(4))\n",
    "print('precision_RandomForest : ', precision_RandomForest.round(4))"
   ]
  },
  {
   "cell_type": "markdown",
   "id": "eda7be97",
   "metadata": {},
   "source": [
    "# Support Vector Machine (SVM)"
   ]
  },
  {
   "cell_type": "code",
   "execution_count": null,
   "id": "cd4494e3",
   "metadata": {},
   "outputs": [],
   "source": [
    "from sklearn.svm import SVC\n",
    "\n",
    "# define parameter grid\n",
    "param_grid = {'C': [0.1, 1],\n",
    "              'gamma': [1, 0.1],\n",
    "              'kernel': ['rbf',  'sigmoid']}\n",
    "\n",
    "# create a SVM model\n",
    "svm_model = SVC()\n",
    "\n",
    "# create GridSearchCV object\n",
    "grid_search = GridSearchCV(svm_model, param_grid, cv=5)\n",
    "\n",
    "# fit the GridSearchCV object to the data\n",
    "grid_search.fit(X_train, y_train)\n",
    "\n",
    "# print the best parameters and score\n",
    "print(\"Best parameters found: \", grid_search.best_params_)\n",
    "print(\"Best accuracy found: {:.2f}%\".format(grid_search.best_score_*100))"
   ]
  },
  {
   "cell_type": "code",
   "execution_count": 31,
   "id": "c1552b7e",
   "metadata": {},
   "outputs": [
    {
     "name": "stdout",
     "output_type": "stream",
     "text": [
      "\u001b[92m\n",
      "accuracy_svm  :  0.7995\n",
      "f1_score_svm  :  0.7234\n",
      "recall_svm    :  0.7103\n",
      "precision_svm :  0.7474\n"
     ]
    }
   ],
   "source": [
    "from sklearn.svm import SVC\n",
    "svm = SVC(kernel='rbf')\n",
    "\n",
    "svm.fit(X_train, y_train)\n",
    "\n",
    "y_pred_svm = svm.predict(X_val)\n",
    "\n",
    "\n",
    "f1_score_svm = f1_score(y_val, y_pred_svm, average='macro') \n",
    "recall_svm = recall_score(y_val, y_pred_svm, average='macro') \n",
    "accuracy_svm = accuracy_score(y_val, y_pred_svm)\n",
    "precision_svm = precision_score(y_val, y_pred_svm, average='macro') \n",
    "\n",
    "print(f'\\033[92m')\n",
    "print('accuracy_svm  : ', accuracy_svm.round(4))\n",
    "print('f1_score_svm  : ', f1_score_svm.round(4))\n",
    "print('recall_svm    : ', recall_svm.round(4))\n",
    "print('precision_svm : ', precision_svm.round(4))"
   ]
  },
  {
   "cell_type": "markdown",
   "id": "2fa77a91",
   "metadata": {},
   "source": [
    "# LogisticRegression"
   ]
  },
  {
   "cell_type": "code",
   "execution_count": 34,
   "id": "1385e060",
   "metadata": {},
   "outputs": [
    {
     "name": "stdout",
     "output_type": "stream",
     "text": [
      "Best parameters :  {'C': 1, 'max_iter': 100, 'solver': 'liblinear'}\n",
      "Best score      : 0.7951982905875734\n"
     ]
    }
   ],
   "source": [
    "from sklearn.linear_model import LogisticRegression\n",
    "\n",
    "param_grid = {'C': [0.1, 1],\n",
    "'solver': ['lbfgs', 'liblinear', 'sag'],\n",
    "'max_iter': [100, 200]}\n",
    "\n",
    "lr_model = LogisticRegression()\n",
    "\n",
    "grid_search = GridSearchCV(lr_model, param_grid, cv=5)\n",
    "\n",
    "grid_search.fit(X_train, y_train)\n",
    "\n",
    "print(\"Best parameters : \", grid_search.best_params_)\n",
    "print(\"Best score      :\" , grid_search.best_score_)"
   ]
  },
  {
   "cell_type": "code",
   "execution_count": 35,
   "id": "2b2afab9",
   "metadata": {},
   "outputs": [
    {
     "name": "stdout",
     "output_type": "stream",
     "text": [
      "\u001b[92m\n",
      "accuracy_LogisticRegr  :  0.7916\n",
      "f1_score_LogisticRegr  :  0.7146\n",
      "recall_LogisticRegr    :  0.6998\n",
      "precision_LogisticRegr :  0.7457\n"
     ]
    }
   ],
   "source": [
    "LogisticRegr=LogisticRegression(C= 1, max_iter= 100, solver= 'liblinear')\n",
    "\n",
    "\n",
    "# fit the model\n",
    "LogisticRegr.fit(X_train, y_train)\n",
    "\n",
    "\n",
    "y_pred_LogisticRegr=LogisticRegr.predict(X_val)\n",
    "\n",
    "\n",
    "\n",
    "f1_score_LogisticRegr = f1_score(y_val, y_pred_LogisticRegr, average='macro') \n",
    "recall_LogisticRegr = recall_score(y_val, y_pred_LogisticRegr, average='macro') \n",
    "accuracy_LogisticRegr = accuracy_score(y_val, y_pred_LogisticRegr)\n",
    "precision_LogisticRegr = precision_score(y_val, y_pred_LogisticRegr, average='macro') \n",
    "\n",
    "\n",
    "print(f'\\033[92m')\n",
    "print('accuracy_LogisticRegr  : ', accuracy_LogisticRegr.round(4))\n",
    "print('f1_score_LogisticRegr  : ', f1_score_LogisticRegr.round(4))\n",
    "print('recall_LogisticRegr    : ', recall_LogisticRegr.round(4))\n",
    "print('precision_LogisticRegr : ', precision_LogisticRegr.round(4))"
   ]
  },
  {
   "cell_type": "code",
   "execution_count": 36,
   "id": "f99b8c4b",
   "metadata": {},
   "outputs": [
    {
     "data": {
      "text/html": [
       "<div>\n",
       "<style scoped>\n",
       "    .dataframe tbody tr th:only-of-type {\n",
       "        vertical-align: middle;\n",
       "    }\n",
       "\n",
       "    .dataframe tbody tr th {\n",
       "        vertical-align: top;\n",
       "    }\n",
       "\n",
       "    .dataframe thead th {\n",
       "        text-align: right;\n",
       "    }\n",
       "</style>\n",
       "<table border=\"1\" class=\"dataframe\">\n",
       "  <thead>\n",
       "    <tr style=\"text-align: right;\">\n",
       "      <th></th>\n",
       "      <th>Model</th>\n",
       "      <th>accuracy</th>\n",
       "      <th>f1_score</th>\n",
       "    </tr>\n",
       "  </thead>\n",
       "  <tbody>\n",
       "    <tr>\n",
       "      <th>0</th>\n",
       "      <td>KNeighborsClassifier</td>\n",
       "      <td>0.807127</td>\n",
       "      <td>0.735956</td>\n",
       "    </tr>\n",
       "    <tr>\n",
       "      <th>1</th>\n",
       "      <td>DecisionTreeClassifier</td>\n",
       "      <td>0.813570</td>\n",
       "      <td>0.746700</td>\n",
       "    </tr>\n",
       "    <tr>\n",
       "      <th>2</th>\n",
       "      <td>RandomForestClassifier</td>\n",
       "      <td>0.819005</td>\n",
       "      <td>0.753935</td>\n",
       "    </tr>\n",
       "    <tr>\n",
       "      <th>3</th>\n",
       "      <td>Support Vector Machine</td>\n",
       "      <td>0.799477</td>\n",
       "      <td>0.723355</td>\n",
       "    </tr>\n",
       "    <tr>\n",
       "      <th>4</th>\n",
       "      <td>Logistic Regression Classifier</td>\n",
       "      <td>0.791625</td>\n",
       "      <td>0.714645</td>\n",
       "    </tr>\n",
       "  </tbody>\n",
       "</table>\n",
       "</div>"
      ],
      "text/plain": [
       "                             Model  accuracy  f1_score\n",
       "0             KNeighborsClassifier  0.807127  0.735956\n",
       "1           DecisionTreeClassifier  0.813570  0.746700\n",
       "2           RandomForestClassifier  0.819005  0.753935\n",
       "3           Support Vector Machine  0.799477  0.723355\n",
       "4  Logistic Regression Classifier   0.791625  0.714645"
      ]
     },
     "execution_count": 36,
     "metadata": {},
     "output_type": "execute_result"
    }
   ],
   "source": [
    " models = pd.DataFrame({\n",
    "    \n",
    "    'Model': [\n",
    "        'KNeighborsClassifier', 'DecisionTreeClassifier',\n",
    "        'RandomForestClassifier', 'Support Vector Machine',\n",
    "        'Logistic Regression Classifier '\n",
    "    ],\n",
    "    \n",
    "    'accuracy': [\n",
    "        accuracy_knn, accuracy_DecisionTree,\n",
    "        accuracy_RandomForest, accuracy_svm,\n",
    "        accuracy_LogisticRegr\n",
    "    \n",
    "    ],\n",
    "    \n",
    "    'f1_score': [\n",
    "         f1_score_knn, f1_score_DecisionTree,\n",
    "        f1_score_RandomForest, f1_score_svm,\n",
    "        f1_score_LogisticRegr\n",
    "    ]\n",
    "})\n",
    "models"
   ]
  },
  {
   "cell_type": "code",
   "execution_count": 37,
   "id": "c2850464",
   "metadata": {},
   "outputs": [
    {
     "data": {
      "text/html": [
       "<style type=\"text/css\">\n",
       "#T_4831c_row0_col0, #T_4831c_row1_col0, #T_4831c_row2_col0, #T_4831c_row3_col0, #T_4831c_row4_col0 {\n",
       "  font-family: Lucida Calligraphy;\n",
       "  color: LigntGreen;\n",
       "  font-size: 15px;\n",
       "}\n",
       "#T_4831c_row0_col1, #T_4831c_row0_col2 {\n",
       "  background-color: #b40426;\n",
       "  color: #f1f1f1;\n",
       "  font-family: Lucida Calligraphy;\n",
       "  color: LigntGreen;\n",
       "  font-size: 15px;\n",
       "}\n",
       "#T_4831c_row1_col1 {\n",
       "  background-color: #ed8366;\n",
       "  color: #f1f1f1;\n",
       "  font-family: Lucida Calligraphy;\n",
       "  color: LigntGreen;\n",
       "  font-size: 15px;\n",
       "}\n",
       "#T_4831c_row1_col2 {\n",
       "  background-color: #eb7d62;\n",
       "  color: #f1f1f1;\n",
       "  font-family: Lucida Calligraphy;\n",
       "  color: LigntGreen;\n",
       "  font-size: 15px;\n",
       "}\n",
       "#T_4831c_row2_col1 {\n",
       "  background-color: #ecd3c5;\n",
       "  color: #000000;\n",
       "  font-family: Lucida Calligraphy;\n",
       "  color: LigntGreen;\n",
       "  font-size: 15px;\n",
       "}\n",
       "#T_4831c_row2_col2 {\n",
       "  background-color: #e7d7ce;\n",
       "  color: #000000;\n",
       "  font-family: Lucida Calligraphy;\n",
       "  color: LigntGreen;\n",
       "  font-size: 15px;\n",
       "}\n",
       "#T_4831c_row3_col1 {\n",
       "  background-color: #9abbff;\n",
       "  color: #000000;\n",
       "  font-family: Lucida Calligraphy;\n",
       "  color: LigntGreen;\n",
       "  font-size: 15px;\n",
       "}\n",
       "#T_4831c_row3_col2 {\n",
       "  background-color: #82a6fb;\n",
       "  color: #f1f1f1;\n",
       "  font-family: Lucida Calligraphy;\n",
       "  color: LigntGreen;\n",
       "  font-size: 15px;\n",
       "}\n",
       "#T_4831c_row4_col1, #T_4831c_row4_col2 {\n",
       "  background-color: #3b4cc0;\n",
       "  color: #f1f1f1;\n",
       "  font-family: Lucida Calligraphy;\n",
       "  color: LigntGreen;\n",
       "  font-size: 15px;\n",
       "}\n",
       "</style>\n",
       "<table id=\"T_4831c\">\n",
       "  <thead>\n",
       "    <tr>\n",
       "      <th id=\"T_4831c_level0_col0\" class=\"col_heading level0 col0\" >Model</th>\n",
       "      <th id=\"T_4831c_level0_col1\" class=\"col_heading level0 col1\" >accuracy</th>\n",
       "      <th id=\"T_4831c_level0_col2\" class=\"col_heading level0 col2\" >f1_score</th>\n",
       "    </tr>\n",
       "  </thead>\n",
       "  <tbody>\n",
       "    <tr>\n",
       "      <td id=\"T_4831c_row0_col0\" class=\"data row0 col0\" >RandomForestClassifier</td>\n",
       "      <td id=\"T_4831c_row0_col1\" class=\"data row0 col1\" >0.819005</td>\n",
       "      <td id=\"T_4831c_row0_col2\" class=\"data row0 col2\" >0.753935</td>\n",
       "    </tr>\n",
       "    <tr>\n",
       "      <td id=\"T_4831c_row1_col0\" class=\"data row1 col0\" >DecisionTreeClassifier</td>\n",
       "      <td id=\"T_4831c_row1_col1\" class=\"data row1 col1\" >0.813570</td>\n",
       "      <td id=\"T_4831c_row1_col2\" class=\"data row1 col2\" >0.746700</td>\n",
       "    </tr>\n",
       "    <tr>\n",
       "      <td id=\"T_4831c_row2_col0\" class=\"data row2 col0\" >KNeighborsClassifier</td>\n",
       "      <td id=\"T_4831c_row2_col1\" class=\"data row2 col1\" >0.807127</td>\n",
       "      <td id=\"T_4831c_row2_col2\" class=\"data row2 col2\" >0.735956</td>\n",
       "    </tr>\n",
       "    <tr>\n",
       "      <td id=\"T_4831c_row3_col0\" class=\"data row3 col0\" >Support Vector Machine</td>\n",
       "      <td id=\"T_4831c_row3_col1\" class=\"data row3 col1\" >0.799477</td>\n",
       "      <td id=\"T_4831c_row3_col2\" class=\"data row3 col2\" >0.723355</td>\n",
       "    </tr>\n",
       "    <tr>\n",
       "      <td id=\"T_4831c_row4_col0\" class=\"data row4 col0\" >Logistic Regression Classifier </td>\n",
       "      <td id=\"T_4831c_row4_col1\" class=\"data row4 col1\" >0.791625</td>\n",
       "      <td id=\"T_4831c_row4_col2\" class=\"data row4 col2\" >0.714645</td>\n",
       "    </tr>\n",
       "  </tbody>\n",
       "</table>\n"
      ],
      "text/plain": [
       "<pandas.io.formats.style.Styler at 0x2334c650a60>"
      ]
     },
     "execution_count": 37,
     "metadata": {},
     "output_type": "execute_result"
    }
   ],
   "source": [
    "models.sort_values(by='f1_score', ascending=False).style.background_gradient(\n",
    "        cmap='coolwarm').hide_index().set_properties(**{\n",
    "            'font-family': 'Lucida Calligraphy',\n",
    "            'color': 'LigntGreen',\n",
    "            'font-size': '15px'\n",
    "        })"
   ]
  },
  {
   "cell_type": "code",
   "execution_count": 38,
   "id": "9b5f080f",
   "metadata": {},
   "outputs": [
    {
     "data": {
      "image/png": "[encoded data removed]",
      "text/plain": [
       "<Figure size 1008x720 with 1 Axes>"
      ]
     },
     "metadata": {
      "needs_background": "light"
     },
     "output_type": "display_data"
    }
   ],
   "source": [
    "p = plt.figure(figsize=(14,10))\n",
    "\n",
    "p = sns.set_theme(style=\"white\")\n",
    "\n",
    "p= models=models.sort_values(by='f1_score',ascending=True)[:20]\n",
    "\n",
    "p = sns.barplot(y= 'Model', x= 'accuracy', data= models)\n",
    "\n",
    "for container in p.containers:\n",
    "    p.bar_label(container,label_type = 'center',padding = 2,size = 20,color = \"Red\",rotation = 0,\n",
    "    bbox={\"boxstyle\": \"round\", \"pad\": 0.3, \"facecolor\": \"yellow\", \"edgecolor\": \"black\", \"alpha\": 1})\n",
    "plt.title('COMPARE THE MODEL')\n",
    "plt.xlabel('accuracy')\n",
    "plt.ylabel('Model');"
   ]
  },
  {
   "cell_type": "markdown",
   "id": "69ca8607",
   "metadata": {},
   "source": [
    "# Best Performing Model : RandomForestClassifier"
   ]
  },
  {
   "cell_type": "code",
   "execution_count": 47,
   "id": "73df05a2",
   "metadata": {},
   "outputs": [
    {
     "data": {
      "text/plain": [
       "array([2, 3, 2, ..., 2, 4, 1])"
      ]
     },
     "execution_count": 47,
     "metadata": {},
     "output_type": "execute_result"
    }
   ],
   "source": [
    "prediction =  RandomForest.predict(X_test)\n",
    "prediction\n"
   ]
  },
  {
   "cell_type": "code",
   "execution_count": 40,
   "id": "816978cd",
   "metadata": {},
   "outputs": [
    {
     "data": {
      "text/plain": [
       "array([2, 3, 2, ..., 2, 4, 1])"
      ]
     },
     "execution_count": 40,
     "metadata": {},
     "output_type": "execute_result"
    }
   ],
   "source": [
    "y_test = y_test.to_numpy().flatten()\n",
    "y_test"
   ]
  },
  {
   "cell_type": "code",
   "execution_count": 43,
   "id": "8c5b1a42",
   "metadata": {},
   "outputs": [
    {
     "data": {
      "text/html": [
       "<div>\n",
       "<style scoped>\n",
       "    .dataframe tbody tr th:only-of-type {\n",
       "        vertical-align: middle;\n",
       "    }\n",
       "\n",
       "    .dataframe tbody tr th {\n",
       "        vertical-align: top;\n",
       "    }\n",
       "\n",
       "    .dataframe thead th {\n",
       "        text-align: right;\n",
       "    }\n",
       "</style>\n",
       "<table border=\"1\" class=\"dataframe\">\n",
       "  <thead>\n",
       "    <tr style=\"text-align: right;\">\n",
       "      <th></th>\n",
       "      <th>Actual</th>\n",
       "      <th>Predicted</th>\n",
       "    </tr>\n",
       "  </thead>\n",
       "  <tbody>\n",
       "    <tr>\n",
       "      <th>508</th>\n",
       "      <td>1</td>\n",
       "      <td>1</td>\n",
       "    </tr>\n",
       "    <tr>\n",
       "      <th>2197</th>\n",
       "      <td>1</td>\n",
       "      <td>2</td>\n",
       "    </tr>\n",
       "    <tr>\n",
       "      <th>1581</th>\n",
       "      <td>2</td>\n",
       "      <td>2</td>\n",
       "    </tr>\n",
       "    <tr>\n",
       "      <th>4543</th>\n",
       "      <td>2</td>\n",
       "      <td>2</td>\n",
       "    </tr>\n",
       "    <tr>\n",
       "      <th>650</th>\n",
       "      <td>3</td>\n",
       "      <td>1</td>\n",
       "    </tr>\n",
       "    <tr>\n",
       "      <th>3091</th>\n",
       "      <td>1</td>\n",
       "      <td>2</td>\n",
       "    </tr>\n",
       "    <tr>\n",
       "      <th>932</th>\n",
       "      <td>2</td>\n",
       "      <td>2</td>\n",
       "    </tr>\n",
       "    <tr>\n",
       "      <th>528</th>\n",
       "      <td>4</td>\n",
       "      <td>4</td>\n",
       "    </tr>\n",
       "    <tr>\n",
       "      <th>4134</th>\n",
       "      <td>2</td>\n",
       "      <td>2</td>\n",
       "    </tr>\n",
       "    <tr>\n",
       "      <th>3401</th>\n",
       "      <td>3</td>\n",
       "      <td>3</td>\n",
       "    </tr>\n",
       "  </tbody>\n",
       "</table>\n",
       "</div>"
      ],
      "text/plain": [
       "      Actual  Predicted\n",
       "508        1          1\n",
       "2197       1          2\n",
       "1581       2          2\n",
       "4543       2          2\n",
       "650        3          1\n",
       "3091       1          2\n",
       "932        2          2\n",
       "528        4          4\n",
       "4134       2          2\n",
       "3401       3          3"
      ]
     },
     "execution_count": 43,
     "metadata": {},
     "output_type": "execute_result"
    }
   ],
   "source": [
    "cross_checking = pd.DataFrame({'Actual' : y_test, 'Predicted' : prediction.ravel()})\n",
    "cross_checking.sample(10)"
   ]
  },
  {
   "cell_type": "code",
   "execution_count": 44,
   "id": "e407a5a0",
   "metadata": {},
   "outputs": [
    {
     "data": {
      "text/html": [
       "<style type=\"text/css\">\n",
       "#T_e0a0c_row0_col0, #T_e0a0c_row0_col1, #T_e0a0c_row2_col0, #T_e0a0c_row2_col1, #T_e0a0c_row4_col0, #T_e0a0c_row4_col1, #T_e0a0c_row5_col0, #T_e0a0c_row5_col1, #T_e0a0c_row6_col0, #T_e0a0c_row6_col1, #T_e0a0c_row8_col0, #T_e0a0c_row8_col1, #T_e0a0c_row9_col1 {\n",
       "  background-color: #aac7fd;\n",
       "  color: #000000;\n",
       "  font-family: Lucida Calligraphy;\n",
       "  color: LigntGreen;\n",
       "  font-size: 15px;\n",
       "}\n",
       "#T_e0a0c_row1_col0, #T_e0a0c_row1_col1, #T_e0a0c_row7_col0, #T_e0a0c_row7_col1 {\n",
       "  background-color: #b40426;\n",
       "  color: #f1f1f1;\n",
       "  font-family: Lucida Calligraphy;\n",
       "  color: LigntGreen;\n",
       "  font-size: 15px;\n",
       "}\n",
       "#T_e0a0c_row3_col0, #T_e0a0c_row3_col1, #T_e0a0c_row9_col0 {\n",
       "  background-color: #3b4cc0;\n",
       "  color: #f1f1f1;\n",
       "  font-family: Lucida Calligraphy;\n",
       "  color: LigntGreen;\n",
       "  font-size: 15px;\n",
       "}\n",
       "</style>\n",
       "<table id=\"T_e0a0c\">\n",
       "  <thead>\n",
       "    <tr>\n",
       "      <th class=\"blank level0\" >&nbsp;</th>\n",
       "      <th id=\"T_e0a0c_level0_col0\" class=\"col_heading level0 col0\" >Actual</th>\n",
       "      <th id=\"T_e0a0c_level0_col1\" class=\"col_heading level0 col1\" >Predicted</th>\n",
       "    </tr>\n",
       "  </thead>\n",
       "  <tbody>\n",
       "    <tr>\n",
       "      <th id=\"T_e0a0c_level0_row0\" class=\"row_heading level0 row0\" >4158</th>\n",
       "      <td id=\"T_e0a0c_row0_col0\" class=\"data row0 col0\" >2</td>\n",
       "      <td id=\"T_e0a0c_row0_col1\" class=\"data row0 col1\" >2</td>\n",
       "    </tr>\n",
       "    <tr>\n",
       "      <th id=\"T_e0a0c_level0_row1\" class=\"row_heading level0 row1\" >3165</th>\n",
       "      <td id=\"T_e0a0c_row1_col0\" class=\"data row1 col0\" >4</td>\n",
       "      <td id=\"T_e0a0c_row1_col1\" class=\"data row1 col1\" >4</td>\n",
       "    </tr>\n",
       "    <tr>\n",
       "      <th id=\"T_e0a0c_level0_row2\" class=\"row_heading level0 row2\" >295</th>\n",
       "      <td id=\"T_e0a0c_row2_col0\" class=\"data row2 col0\" >2</td>\n",
       "      <td id=\"T_e0a0c_row2_col1\" class=\"data row2 col1\" >2</td>\n",
       "    </tr>\n",
       "    <tr>\n",
       "      <th id=\"T_e0a0c_level0_row3\" class=\"row_heading level0 row3\" >1979</th>\n",
       "      <td id=\"T_e0a0c_row3_col0\" class=\"data row3 col0\" >1</td>\n",
       "      <td id=\"T_e0a0c_row3_col1\" class=\"data row3 col1\" >1</td>\n",
       "    </tr>\n",
       "    <tr>\n",
       "      <th id=\"T_e0a0c_level0_row4\" class=\"row_heading level0 row4\" >4260</th>\n",
       "      <td id=\"T_e0a0c_row4_col0\" class=\"data row4 col0\" >2</td>\n",
       "      <td id=\"T_e0a0c_row4_col1\" class=\"data row4 col1\" >2</td>\n",
       "    </tr>\n",
       "    <tr>\n",
       "      <th id=\"T_e0a0c_level0_row5\" class=\"row_heading level0 row5\" >630</th>\n",
       "      <td id=\"T_e0a0c_row5_col0\" class=\"data row5 col0\" >2</td>\n",
       "      <td id=\"T_e0a0c_row5_col1\" class=\"data row5 col1\" >2</td>\n",
       "    </tr>\n",
       "    <tr>\n",
       "      <th id=\"T_e0a0c_level0_row6\" class=\"row_heading level0 row6\" >419</th>\n",
       "      <td id=\"T_e0a0c_row6_col0\" class=\"data row6 col0\" >2</td>\n",
       "      <td id=\"T_e0a0c_row6_col1\" class=\"data row6 col1\" >2</td>\n",
       "    </tr>\n",
       "    <tr>\n",
       "      <th id=\"T_e0a0c_level0_row7\" class=\"row_heading level0 row7\" >1881</th>\n",
       "      <td id=\"T_e0a0c_row7_col0\" class=\"data row7 col0\" >4</td>\n",
       "      <td id=\"T_e0a0c_row7_col1\" class=\"data row7 col1\" >4</td>\n",
       "    </tr>\n",
       "    <tr>\n",
       "      <th id=\"T_e0a0c_level0_row8\" class=\"row_heading level0 row8\" >1491</th>\n",
       "      <td id=\"T_e0a0c_row8_col0\" class=\"data row8 col0\" >2</td>\n",
       "      <td id=\"T_e0a0c_row8_col1\" class=\"data row8 col1\" >2</td>\n",
       "    </tr>\n",
       "    <tr>\n",
       "      <th id=\"T_e0a0c_level0_row9\" class=\"row_heading level0 row9\" >2303</th>\n",
       "      <td id=\"T_e0a0c_row9_col0\" class=\"data row9 col0\" >1</td>\n",
       "      <td id=\"T_e0a0c_row9_col1\" class=\"data row9 col1\" >2</td>\n",
       "    </tr>\n",
       "  </tbody>\n",
       "</table>\n"
      ],
      "text/plain": [
       "<pandas.io.formats.style.Styler at 0x2334c69c7f0>"
      ]
     },
     "execution_count": 44,
     "metadata": {},
     "output_type": "execute_result"
    }
   ],
   "source": [
    "cross_checking.sample(10).style.background_gradient(\n",
    "        cmap='coolwarm').set_properties(**{\n",
    "            'font-family': 'Lucida Calligraphy',\n",
    "            'color': 'LigntGreen',\n",
    "            'font-size': '15px'\n",
    "        })"
   ]
  },
  {
   "cell_type": "code",
   "execution_count": 45,
   "id": "15ee6eb4",
   "metadata": {},
   "outputs": [],
   "source": [
    "cross_checking.to_csv('cross_checking_Classifier.csv', index=False)"
   ]
  },
  {
   "cell_type": "code",
   "execution_count": 46,
   "id": "0ac0ecc9",
   "metadata": {},
   "outputs": [],
   "source": [
    "sorted_models = models.sort_values(by='accuracy', ascending=False)  #\n",
    "sorted_models.to_csv('modelsClassifier.csv', index=False)"
   ]
  }
 ],
 "metadata": {
  "kernelspec": {
   "display_name": "Python 3 (ipykernel)",
   "language": "python",
   "name": "python3"
  },
  "language_info": {
   "codemirror_mode": {
    "name": "ipython",
    "version": 3
   },
   "file_extension": ".py",
   "mimetype": "text/x-python",
   "name": "python",
   "nbconvert_exporter": "python",
   "pygments_lexer": "ipython3",
   "version": "3.10.5"
  }
 },
 "nbformat": 4,
 "nbformat_minor": 5
}
